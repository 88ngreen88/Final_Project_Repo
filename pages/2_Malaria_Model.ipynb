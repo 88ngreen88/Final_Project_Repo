{
 "cells": [
  {
   "cell_type": "code",
   "execution_count": 18,
   "id": "e4551568",
   "metadata": {},
   "outputs": [],
   "source": [
    "import streamlit as st\n",
    "import pickle\n",
    "import joblib\n",
    "import numpy as np\n",
    "import pandas as pd\n",
    "import matplotlib.pyplot as plt\n",
    "from matplotlib.backends.backend_agg import RendererAgg\n",
    "_lock = RendererAgg.lock"
   ]
  },
  {
   "cell_type": "code",
   "execution_count": 19,
   "id": "5ffc0a35",
   "metadata": {},
   "outputs": [
    {
     "data": {
      "text/plain": [
       "DeltaGenerator()"
      ]
     },
     "execution_count": 19,
     "metadata": {},
     "output_type": "execute_result"
    }
   ],
   "source": [
    "st.title(\"Malaria Classification Model\")"
   ]
  },
  {
   "cell_type": "code",
   "execution_count": 10,
   "id": "de0824ad",
   "metadata": {},
   "outputs": [],
   "source": [
    "# @st.cache\n",
    "# def load_model(file):\n",
    "#     model_file = open(file, \"rb\")\n",
    "#     loaded_model = joblib.load(model_file)\n",
    "#     model_file.close()\n",
    "#     return loaded_model\n"
   ]
  },
  {
   "cell_type": "code",
   "execution_count": 13,
   "id": "946b6288",
   "metadata": {},
   "outputs": [],
   "source": [
    "\n",
    "# malaria_model = load_model(\"pickled/cnn_model_3(2).pkl\")"
   ]
  },
  {
   "cell_type": "code",
   "execution_count": 15,
   "id": "57c76d0c",
   "metadata": {},
   "outputs": [],
   "source": [
    "#Side Bar \n",
    "st.sidebar.title(\"Image Upload\")\n",
    "\n",
    "#submit button\n",
    "uploaded_file = st.sidebar.file_uploader(\"Choose an image file\", type=[\"jpg\", \"jpeg\", \"png\"])\n",
    "\n",
    "# Display the uploaded image\n",
    "if uploaded_file is not None:\n",
    "    st.image(uploaded_file)\n"
   ]
  },
  {
   "cell_type": "code",
   "execution_count": 16,
   "id": "fdb4364a",
   "metadata": {},
   "outputs": [
    {
     "ename": "NameError",
     "evalue": "name 'ImageDataGenerator' is not defined",
     "output_type": "error",
     "traceback": [
      "\u001b[0;31m---------------------------------------------------------------------------\u001b[0m",
      "\u001b[0;31mNameError\u001b[0m                                 Traceback (most recent call last)",
      "Cell \u001b[0;32mIn[16], line 2\u001b[0m\n\u001b[1;32m      1\u001b[0m \u001b[38;5;66;03m#new input\u001b[39;00m\n\u001b[0;32m----> 2\u001b[0m datagen \u001b[38;5;241m=\u001b[39m \u001b[43mImageDataGenerator\u001b[49m(rescale\u001b[38;5;241m=\u001b[39m\u001b[38;5;241m1.\u001b[39m\u001b[38;5;241m/\u001b[39m\u001b[38;5;241m255\u001b[39m)\n\u001b[1;32m      3\u001b[0m new_input \u001b[38;5;241m=\u001b[39m datagen\u001b[38;5;241m.\u001b[39mflow(x\u001b[38;5;241m=\u001b[39muploaded_file, batch_size\u001b[38;5;241m=\u001b[39m\u001b[38;5;241m1\u001b[39m, target_size\u001b[38;5;241m=\u001b[39m(\u001b[38;5;241m128\u001b[39m,\u001b[38;5;241m128\u001b[39m), shuffle\u001b[38;5;241m=\u001b[39m\u001b[38;5;28;01mFalse\u001b[39;00m)\u001b[38;5;241m.\u001b[39mnext()[\u001b[38;5;241m0\u001b[39m]\n\u001b[1;32m      5\u001b[0m \u001b[38;5;66;03m#model input\u001b[39;00m\n",
      "\u001b[0;31mNameError\u001b[0m: name 'ImageDataGenerator' is not defined"
     ]
    }
   ],
   "source": [
    "#new input\n",
    "datagen = ImageDataGenerator(rescale=1./255)\n",
    "new_input = datagen.flow(x=uploaded_file, batch_size=1, target_size=(128,128), shuffle=False).next()[0]\n",
    "\n",
    "#model input\n",
    "predict_in = pd.Dataframe(new_input, columns = malaria_model.feature_names_in)\n",
    "expander_df = st.expander(\"show image\")\n",
    "expander_df.st.image(predict_in)\n"
   ]
  },
  {
   "cell_type": "code",
   "execution_count": null,
   "id": "207eb0e3",
   "metadata": {},
   "outputs": [],
   "source": [
    "#categorization\n",
    "\n",
    "cat_button = st.button(\"Categorize the Image\")\n",
    "if predict_button:\n",
    "    prediction = malaria_model.predict(new_input)\n",
    "    if prediction == 0:\n",
    "        prediction = \"uninfected with malaria\"\n",
    "    else:\n",
    "        prediction = \"infected with malaria\"\n",
    "    \n",
    "    st.write(f\"According to our model, you are {prediction}\")\n",
    "    "
   ]
  }
 ],
 "metadata": {
  "kernelspec": {
   "display_name": "bigdog",
   "language": "python",
   "name": "bigdog"
  },
  "language_info": {
   "codemirror_mode": {
    "name": "ipython",
    "version": 3
   },
   "file_extension": ".py",
   "mimetype": "text/x-python",
   "name": "python",
   "nbconvert_exporter": "python",
   "pygments_lexer": "ipython3",
   "version": "3.8.15"
  }
 },
 "nbformat": 4,
 "nbformat_minor": 5
}
