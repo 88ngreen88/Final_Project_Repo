{
 "cells": [
  {
   "cell_type": "code",
   "execution_count": null,
   "id": "eaf2f256",
   "metadata": {},
   "outputs": [],
   "source": [
    "# Imports"
   ]
  },
  {
   "cell_type": "code",
   "execution_count": 1,
   "id": "578c4975",
   "metadata": {},
   "outputs": [],
   "source": [
    "# importing Data"
   ]
  },
  {
   "cell_type": "code",
   "execution_count": 2,
   "id": "378aa6e9",
   "metadata": {},
   "outputs": [],
   "source": [
    "# EDA"
   ]
  },
  {
   "cell_type": "code",
   "execution_count": null,
   "id": "7d1bfd76",
   "metadata": {},
   "outputs": [],
   "source": []
  }
 ],
 "metadata": {
  "kernelspec": {
   "display_name": "bigdog",
   "language": "python",
   "name": "bigdog"
  },
  "language_info": {
   "codemirror_mode": {
    "name": "ipython",
    "version": 3
   },
   "file_extension": ".py",
   "mimetype": "text/x-python",
   "name": "python",
   "nbconvert_exporter": "python",
   "pygments_lexer": "ipython3",
   "version": "3.8.16"
  }
 },
 "nbformat": 4,
 "nbformat_minor": 5
}
