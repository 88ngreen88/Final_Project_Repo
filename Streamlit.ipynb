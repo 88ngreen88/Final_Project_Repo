{
 "cells": [
  {
   "cell_type": "code",
   "execution_count": 32,
   "id": "eaf2f256",
   "metadata": {},
   "outputs": [],
   "source": [
    "# make usual imports\n",
    "import streamlit as st\n",
    "import pandas as pd\n",
    "import matplotlib.pyplot as plt\n",
    "import seaborn as sns\n",
    "import joblib\n",
    "import altair as alt\n",
    "import numpy as np\n",
    "from PIL import Image\n",
    "import pickle\n",
    "import numpy as np\n",
    "from tensorflow.keras.preprocessing.image import ImageDataGenerator\n"
   ]
  },
  {
   "cell_type": "code",
   "execution_count": 22,
   "id": "199bbac4",
   "metadata": {},
   "outputs": [
    {
     "data": {
      "text/plain": [
       "DeltaGenerator()"
      ]
     },
     "execution_count": 22,
     "metadata": {},
     "output_type": "execute_result"
    }
   ],
   "source": [
    "#images\n",
    "st.image(\"streamlit_images/quito.jpg\", use_column_width = \"always\")\n"
   ]
  },
  {
   "cell_type": "code",
   "execution_count": 23,
   "id": "76d356c3",
   "metadata": {},
   "outputs": [
    {
     "data": {
      "text/plain": [
       "DeltaGenerator()"
      ]
     },
     "execution_count": 23,
     "metadata": {},
     "output_type": "execute_result"
    }
   ],
   "source": [
    "#title\n",
    "#this is my main page, add github link and information about my project. Tableua graphs?\n",
    "st.title(\"Malaria Detection\")\n",
    "st.header(\"Look at the data below on the global impact of malaria\")"
   ]
  },
  {
   "cell_type": "code",
   "execution_count": 24,
   "id": "a94c4ca3",
   "metadata": {},
   "outputs": [],
   "source": [
    "st.write(\"Below shows the number of cases of malaria in the United States and regions around the world\")"
   ]
  },
  {
   "cell_type": "code",
   "execution_count": 25,
   "id": "c89bce41",
   "metadata": {},
   "outputs": [
    {
     "data": {
      "text/plain": [
       "DeltaGenerator()"
      ]
     },
     "execution_count": 25,
     "metadata": {},
     "output_type": "execute_result"
    }
   ],
   "source": [
    "#load data\n",
    "XLS = pd.ExcelFile(\"Data/US_Malaria.xlsx\")\n",
    "df_cases = pd.read_excel(XLS, \"Data\")\n",
    "\n",
    "#cleaning data\n",
    "df_cases = df_cases.drop(\"Unnamed: 0\", axis =1)\n",
    "df_cases = df_cases.drop(df_cases.index[0:4])\n",
    "df_cases.rename(columns = {\"Unnamed: 1\":\"Year\", \"Unnamed: 2\":\"Malaria Cases\"}, inplace = True)\n",
    "df_cases.reset_index(drop=True, inplace = True)\n",
    "\n",
    "#creating barchart\n",
    "chart = alt.Chart(df_cases).mark_bar().encode(\n",
    "    x='Year',\n",
    "    y='Malaria Cases',\n",
    "    tooltip=['Year', 'Malaria Cases']\n",
    ").properties(\n",
    "    width=600,\n",
    "    height=400\n",
    ")\n",
    "\n",
    "#Showing chart in Streamlit\n",
    "st.altair_chart(chart, use_container_width=True)\n"
   ]
  },
  {
   "cell_type": "code",
   "execution_count": 3,
   "id": "31bc7796",
   "metadata": {},
   "outputs": [],
   "source": [
    "data = {\n",
    "    'Year': [2010, 2011, 2012, 2013, 2014, 2015, 2016, 2017, 2018, 2019, 2020, 2021],\n",
    "    'African': [104478030, 102278324, 113761255, 125732311, 135095910, 142473526, 160847397, 164222522, 157996344, 168282485, 168364949, 174962186],\n",
    "    'Eastern Mediterranean': [6369494, 5952130, 5835463, 4946316, 5343572, 5420260, 3683265, 4464691, 5289329, 4492250, 4198608, 4805377],\n",
    "    'European': [271, 252, 666, 328, 270, 238, 226, 231, 255, 295, 144, None],\n",
    "    'Americas': [677583, 495221, 471841, 468931, 410975, 479057, 651224, 932341, 930469, 848994, 589418, 524158],\n",
    "    'South-East Asia': [3085804, 2504444, 2144568, 1681812, 1696800, 1659425, 1477428, 1240255, 752907, 671608, 512084, 558990],\n",
    "    'Western Pacific': [1792851, 1429780, 1122080, 1372377, 923262, 813712, 954305, 1069932, 1104615, 790987, 1049905, 90273]}\n",
    "\n",
    "df = pd.DataFrame(data)"
   ]
  },
  {
   "cell_type": "code",
   "execution_count": 4,
   "id": "e6090be5",
   "metadata": {},
   "outputs": [
    {
     "name": "stderr",
     "output_type": "stream",
     "text": [
      "2023-04-18 15:56:52.801 \n",
      "  \u001b[33m\u001b[1mWarning:\u001b[0m to view this Streamlit app on a browser, run it with the following\n",
      "  command:\n",
      "\n",
      "    streamlit run /opt/homebrew/Caskroom/miniforge/base/envs/bigdog/lib/python3.8/site-packages/ipykernel_launcher.py [ARGUMENTS]\n"
     ]
    },
    {
     "data": {
      "text/plain": [
       "DeltaGenerator()"
      ]
     },
     "execution_count": 4,
     "metadata": {},
     "output_type": "execute_result"
    }
   ],
   "source": [
    "df_melt = pd.melt(df, id_vars=['Year'], var_name='Region', value_name='Population')\n",
    "\n",
    "# Create a stacked bar chart using Altair\n",
    "chart = alt.Chart(df_melt).mark_bar().encode(\n",
    "    x='Year:O',\n",
    "    y='Population:Q',\n",
    "    color=alt.Color('Region:N', legend=alt.Legend(title='Region'), scale=alt.Scale(scheme='category20')),\n",
    "    tooltip=['Year', 'Region', 'Population']\n",
    ").properties(\n",
    "    width=600,\n",
    "    height=400,\n",
    "    title='Population by Region (2010-2021)'\n",
    ")\n",
    "\n",
    "# Display the chart in Streamlit\n",
    "st.altair_chart(chart, use_container_width=True)"
   ]
  },
  {
   "cell_type": "code",
   "execution_count": 5,
   "id": "4b33faa0",
   "metadata": {},
   "outputs": [],
   "source": [
    "st.write(\"Please use the malaria model below to classify blood smear samples\")"
   ]
  },
  {
   "cell_type": "code",
   "execution_count": 7,
   "id": "4d317357",
   "metadata": {},
   "outputs": [
    {
     "data": {
      "text/plain": [
       "DeltaGenerator()"
      ]
     },
     "execution_count": 7,
     "metadata": {},
     "output_type": "execute_result"
    }
   ],
   "source": [
    "st.title(\"Malaria Classification Model\")"
   ]
  },
  {
   "cell_type": "code",
   "execution_count": 8,
   "id": "fdd5c56d",
   "metadata": {},
   "outputs": [],
   "source": [
    "def load_model(file):\n",
    "    model_file = open(file, \"rb\")\n",
    "    loaded_model = joblib.load(model_file)\n",
    "    model_file.close()\n",
    "    return loaded_model"
   ]
  },
  {
   "cell_type": "code",
   "execution_count": 10,
   "id": "eeed68bb",
   "metadata": {},
   "outputs": [
    {
     "name": "stderr",
     "output_type": "stream",
     "text": [
      "2023-04-18 17:28:11.804254: I tensorflow/core/common_runtime/pluggable_device/pluggable_device_factory.cc:305] Could not identify NUMA node of platform GPU ID 0, defaulting to 0. Your kernel may not have been built with NUMA support.\n",
      "2023-04-18 17:28:11.804405: I tensorflow/core/common_runtime/pluggable_device/pluggable_device_factory.cc:271] Created TensorFlow device (/job:localhost/replica:0/task:0/device:GPU:0 with 0 MB memory) -> physical PluggableDevice (device: 0, name: METAL, pci bus id: <undefined>)\n"
     ]
    },
    {
     "name": "stdout",
     "output_type": "stream",
     "text": [
      "Metal device set to: Apple M1\n"
     ]
    }
   ],
   "source": [
    "malaria_model = load_model(\"cnn_model_3(3).pkl\")"
   ]
  },
  {
   "cell_type": "code",
   "execution_count": 18,
   "id": "25378180",
   "metadata": {},
   "outputs": [],
   "source": [
    "#submit button\n",
    "uploaded_file = st.file_uploader(\"Choose an image file\", type=[\"jpg\", \"jpeg\", \"png\"])\n"
   ]
  },
  {
   "cell_type": "code",
   "execution_count": 23,
   "id": "1c2a6cb4",
   "metadata": {},
   "outputs": [],
   "source": [
    "if uploaded_file is not None:\n",
    "    st.image(uploaded_file, caption='Blood Smear Image', use_column_width=True)\n"
   ]
  },
  {
   "cell_type": "code",
   "execution_count": 31,
   "id": "16a6ddb2",
   "metadata": {},
   "outputs": [],
   "source": [
    "cat_button = st.button(\"Categorize the Image\")\n",
    "\n",
    "def predict(uploaded_file):\n",
    "    # Open and resize the uploaded file\n",
    "    image = Image.open(uploaded_file)\n",
    "    image_resized = image.resize((128, 128))\n",
    "        \n",
    "    # Convert the resized file to a Numpy array\n",
    "    image_array = np.array(image_resized)\n",
    "        \n",
    "        \n",
    "    # Create an instance of ImageDataGenerator with desired preprocessing settings\n",
    "    datagen = ImageDataGenerator(rescale=1./255)\n",
    "        \n",
    "    # Apply the data generator to the image array\n",
    "    image_processed = datagen.flow(np.array([image_array]))\n",
    "    proba = malaria_model.predict(image_processed)\n",
    "    pred = (proba > 0.5).astype('int')\n",
    "        \n",
    "    if pred == 0:\n",
    "        return st.write(\"uninfected with malaria\")\n",
    "    else:\n",
    "        return st.write(\"infected with malaria\")\n",
    "\n",
    "\n",
    "if cat_button:\n",
    "    predict(uploaded_file)"
   ]
  },
  {
   "cell_type": "code",
   "execution_count": null,
   "id": "79d6ea75",
   "metadata": {},
   "outputs": [],
   "source": []
  }
 ],
 "metadata": {
  "kernelspec": {
   "display_name": "bigdog",
   "language": "python",
   "name": "bigdog"
  },
  "language_info": {
   "codemirror_mode": {
    "name": "ipython",
    "version": 3
   },
   "file_extension": ".py",
   "mimetype": "text/x-python",
   "name": "python",
   "nbconvert_exporter": "python",
   "pygments_lexer": "ipython3",
   "version": "3.8.15"
  }
 },
 "nbformat": 4,
 "nbformat_minor": 5
}
