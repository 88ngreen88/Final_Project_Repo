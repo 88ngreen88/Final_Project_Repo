{
 "cells": [
  {
   "cell_type": "code",
   "execution_count": 21,
   "id": "eaf2f256",
   "metadata": {},
   "outputs": [],
   "source": [
    "# make usual imports\n",
    "import streamlit as st\n",
    "import pandas as pd\n",
    "import matplotlib.pyplot as plt\n",
    "import seaborn as sns\n",
    "import joblib\n",
    "import altair as alt\n",
    "from PIL import Image"
   ]
  },
  {
   "cell_type": "code",
   "execution_count": 22,
   "id": "199bbac4",
   "metadata": {},
   "outputs": [
    {
     "data": {
      "text/plain": [
       "DeltaGenerator()"
      ]
     },
     "execution_count": 22,
     "metadata": {},
     "output_type": "execute_result"
    }
   ],
   "source": [
    "#images\n",
    "st.image(\"streamlit_images/quito.jpg\", use_column_width = \"always\")\n"
   ]
  },
  {
   "cell_type": "code",
   "execution_count": 23,
   "id": "76d356c3",
   "metadata": {},
   "outputs": [
    {
     "data": {
      "text/plain": [
       "DeltaGenerator()"
      ]
     },
     "execution_count": 23,
     "metadata": {},
     "output_type": "execute_result"
    }
   ],
   "source": [
    "#title\n",
    "#this is my main page, add github link and information about my project. Tableua graphs?\n",
    "st.title(\"Malaria Detection\")\n",
    "st.header(\"Look at the data below on the global impact of malaria\")"
   ]
  },
  {
   "cell_type": "code",
   "execution_count": 24,
   "id": "a94c4ca3",
   "metadata": {},
   "outputs": [],
   "source": [
    "#Styling text with HTML\n",
    "st.write('<h2 style =\"text-align: center\"> HTML text</h2', unsafe_allow_html = True)"
   ]
  },
  {
   "cell_type": "code",
   "execution_count": 25,
   "id": "c89bce41",
   "metadata": {},
   "outputs": [
    {
     "data": {
      "text/plain": [
       "DeltaGenerator()"
      ]
     },
     "execution_count": 25,
     "metadata": {},
     "output_type": "execute_result"
    }
   ],
   "source": [
    "#load data\n",
    "XLS = pd.ExcelFile(\"Data/US_Malaria.xlsx\")\n",
    "df_cases = pd.read_excel(XLS, \"Data\")\n",
    "\n",
    "#cleaning data\n",
    "df_cases = df_cases.drop(\"Unnamed: 0\", axis =1)\n",
    "df_cases = df_cases.drop(df_cases.index[0:4])\n",
    "df_cases.rename(columns = {\"Unnamed: 1\":\"Year\", \"Unnamed: 2\":\"Malaria Cases\"}, inplace = True)\n",
    "df_cases.reset_index(drop=True, inplace = True)\n",
    "\n",
    "#creating barchart\n",
    "chart = alt.Chart(df_cases).mark_bar().encode(\n",
    "    x='Year',\n",
    "    y='Malaria Cases',\n",
    "    tooltip=['Year', 'Malaria Cases']\n",
    ").properties(\n",
    "    width=600,\n",
    "    height=400\n",
    ")\n",
    "\n",
    "#Showing chart in Streamlit\n",
    "st.altair_chart(chart, use_container_width=True)\n"
   ]
  },
  {
   "cell_type": "code",
   "execution_count": null,
   "id": "31bc7796",
   "metadata": {},
   "outputs": [],
   "source": []
  },
  {
   "cell_type": "code",
   "execution_count": null,
   "id": "e6090be5",
   "metadata": {},
   "outputs": [],
   "source": []
  }
 ],
 "metadata": {
  "kernelspec": {
   "display_name": "bigdog",
   "language": "python",
   "name": "bigdog"
  },
  "language_info": {
   "codemirror_mode": {
    "name": "ipython",
    "version": 3
   },
   "file_extension": ".py",
   "mimetype": "text/x-python",
   "name": "python",
   "nbconvert_exporter": "python",
   "pygments_lexer": "ipython3",
   "version": "3.8.15"
  }
 },
 "nbformat": 4,
 "nbformat_minor": 5
}
